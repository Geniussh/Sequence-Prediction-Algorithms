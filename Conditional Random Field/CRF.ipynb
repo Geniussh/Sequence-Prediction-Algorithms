{
 "cells": [
  {
   "cell_type": "code",
   "execution_count": null,
   "metadata": {},
   "outputs": [],
   "source": [
    "import warnings; warnings.simplefilter('ignore')\n",
    "import numpy as np\n",
    "from sklearn import preprocessing\n",
    "le = preprocessing.LabelEncoder()\n",
    "oe = preprocessing.OneHotEncoder(sparse=False)\n",
    "import re\n",
    "import matplotlib.pyplot as plt\n",
    "%matplotlib inline\n",
    "from pystruct.datasets import load_letters\n",
    "import pycrfsuite"
   ]
  },
  {
   "cell_type": "code",
   "execution_count": null,
   "metadata": {},
   "outputs": [],
   "source": [
    "letters = load_letters()\n",
    "X, y, folds = letters['data'], letters['labels'], letters['folds']\n",
    "# we convert the lists to object arrays, as that makes slicing much more\n",
    "# convenient\n",
    "X, y = np.array(X), np.array(y)"
   ]
  },
  {
   "cell_type": "code",
   "execution_count": null,
   "metadata": {},
   "outputs": [],
   "source": [
    "X = X[:5000]\n",
    "y = y[:5000]"
   ]
  },
  {
   "cell_type": "code",
   "execution_count": null,
   "metadata": {},
   "outputs": [],
   "source": [
    "# Count how many letters are in the first 5,000 sequences\n",
    "sum([len(x) for x in X[:5000]])"
   ]
  },
  {
   "cell_type": "code",
   "execution_count": null,
   "metadata": {
    "scrolled": true
   },
   "outputs": [],
   "source": [
    "print (X.shape, y.shape)"
   ]
  },
  {
   "cell_type": "code",
   "execution_count": null,
   "metadata": {},
   "outputs": [],
   "source": [
    "print (X[0].shape)\n",
    "print (X[150].shape)"
   ]
  },
  {
   "cell_type": "code",
   "execution_count": null,
   "metadata": {},
   "outputs": [],
   "source": [
    "print (y[0].shape)\n",
    "print (y[150].shape)"
   ]
  },
  {
   "cell_type": "code",
   "execution_count": null,
   "metadata": {},
   "outputs": [],
   "source": [
    "def convert_letter_to_dict(letter):\n",
    "    d = {}\n",
    "    #print (\"letter:\", letter.shape)    # ('letter:', (128,))\n",
    "    \n",
    "    # You are welcome to choose another kind of features\n",
    "    for ind, i in enumerate(letter):\n",
    "        #print (d)\n",
    "        d[\"p_\"+str(ind)] = i\n",
    "    return d"
   ]
  },
  {
   "cell_type": "code",
   "execution_count": null,
   "metadata": {},
   "outputs": [],
   "source": [
    "def word2features(word, i):\n",
    "    letter = word[i]\n",
    "    # You are welcome to choose another kind of features\n",
    "    features = {\n",
    "    'letter': convert_letter_to_dict(letter)\n",
    "    }\n",
    "    \n",
    "    # Comment Both \"if\"s --> Window size 1\n",
    "    # Comment first \"if\" --> Window size 2\n",
    "    # Don't Comment --> Window size 3\n",
    "    if i > 0:\n",
    "        # The letter before the current one\n",
    "        letter = word[i-1]\n",
    "        features.update({\n",
    "        '-1:letter': str(convert_letter_to_dict(letter))\n",
    "        })\n",
    "    if i < len(word)-1:\n",
    "        # The letter after the current one\n",
    "        letter = word[i+1]\n",
    "        features.update({\n",
    "        '+1:letter': str(convert_letter_to_dict(letter))\n",
    "        })\n",
    "    return features"
   ]
  },
  {
   "cell_type": "code",
   "execution_count": null,
   "metadata": {},
   "outputs": [],
   "source": [
    "def create_word_features(data):\n",
    "     #print (data.shape)    # (9, 128)\n",
    "     return [word2features(data, i) for i in range(len(data))]\n",
    "X_features = [create_word_features(word) for word in X]"
   ]
  },
  {
   "cell_type": "code",
   "execution_count": null,
   "metadata": {},
   "outputs": [],
   "source": [
    "X_features = np.array(X_features)"
   ]
  },
  {
   "cell_type": "code",
   "execution_count": null,
   "metadata": {},
   "outputs": [],
   "source": [
    "X_features[0]"
   ]
  },
  {
   "cell_type": "code",
   "execution_count": null,
   "metadata": {},
   "outputs": [],
   "source": [
    "trainer = pycrfsuite.Trainer(verbose=True)"
   ]
  },
  {
   "cell_type": "code",
   "execution_count": null,
   "metadata": {},
   "outputs": [],
   "source": [
    "X_train, X_test = X_features[:1000], X_features[1000:]\n",
    "y_train, y_test = y[:1000], y[1000:]"
   ]
  },
  {
   "cell_type": "code",
   "execution_count": null,
   "metadata": {},
   "outputs": [],
   "source": [
    "X_train, X_test = X_features[:2500], X_features[2500:]\n",
    "y_train, y_test = y[:2500], y[2500:]"
   ]
  },
  {
   "cell_type": "code",
   "execution_count": null,
   "metadata": {},
   "outputs": [],
   "source": [
    "X_train, X_test = X_features[:4000], X_features[4000:]\n",
    "y_train, y_test = y[:4000], y[4000:]"
   ]
  },
  {
   "cell_type": "code",
   "execution_count": null,
   "metadata": {},
   "outputs": [],
   "source": [
    "print (X_train.shape, X_test.shape)"
   ]
  },
  {
   "cell_type": "code",
   "execution_count": null,
   "metadata": {},
   "outputs": [],
   "source": [
    "print (y_train.shape, y_test.shape)"
   ]
  },
  {
   "cell_type": "code",
   "execution_count": null,
   "metadata": {},
   "outputs": [],
   "source": [
    "y_tr = []\n",
    "for y_i in y_train:\n",
    "    z = []\n",
    "    #print (y_i.shape)    # (9,)\n",
    "    for i in y_i:\n",
    "        z.append(str(i))\n",
    "        #print (\"str(i):\", str(i), type(i))    # ('str(i):', '14', <type 'numpy.int64'>)\n",
    "    y_tr.append(z)\n",
    "    \n",
    "y_te = []\n",
    "for y_i in y_test:\n",
    "    z = []\n",
    "    for i in y_i:\n",
    "        z.append(str(i))\n",
    "    y_te.append(z)"
   ]
  },
  {
   "cell_type": "code",
   "execution_count": null,
   "metadata": {},
   "outputs": [],
   "source": [
    "cnt=0\n",
    "a=0\n",
    "for xseq, yseq in zip(X_train, y_tr):\n",
    "    cnt +=1\n",
    "    ystr = yseq\n",
    "    #print (\"ystr:\", ystr)    # ('ystr:', ['14', '12', '12', '0', '13', '3', '8', '13', '6'])\n",
    "    if(len(ystr)!=len(xseq)):\n",
    "       print(cnt)\n",
    "       continue\n",
    "    a+=1\n",
    "    trainer.append(xseq, ystr)"
   ]
  },
  {
   "cell_type": "code",
   "execution_count": null,
   "metadata": {
    "scrolled": true
   },
   "outputs": [],
   "source": [
    "trainer.set_params({\n",
    "    'c1': 1.0,   # coefficient for L1 penalty\n",
    "    'c2': 1e-3,  # coefficient for L2 penalty\n",
    "    'max_iterations': 1000,  # stop earlier\n",
    "\n",
    "    # include transitions that are possible, but not observed\n",
    "    'feature.possible_transitions': True\n",
    "})\n",
    "\n",
    "trainer.train('ocr.crfsuite')"
   ]
  },
  {
   "cell_type": "code",
   "execution_count": null,
   "metadata": {},
   "outputs": [],
   "source": [
    "tagger = pycrfsuite.Tagger()\n",
    "tagger.open('ocr.crfsuite')"
   ]
  },
  {
   "cell_type": "code",
   "execution_count": null,
   "metadata": {},
   "outputs": [],
   "source": [
    "tagger.tag(X_test[100])"
   ]
  },
  {
   "cell_type": "code",
   "execution_count": null,
   "metadata": {},
   "outputs": [],
   "source": [
    "y_te[100]"
   ]
  },
  {
   "cell_type": "code",
   "execution_count": null,
   "metadata": {},
   "outputs": [],
   "source": [
    "def calc_acc(data, y):\n",
    "    num = 0\n",
    "    den = 0\n",
    "    for i in range(len(data)):\n",
    "        pred = tagger.tag(data[i])\n",
    "        for j in range(len(pred)):\n",
    "            num = num + int(pred[j] == y[i][j])\n",
    "        den = den + len(pred)\n",
    "    return num / den"
   ]
  },
  {
   "cell_type": "code",
   "execution_count": null,
   "metadata": {},
   "outputs": [],
   "source": [
    "print(\"Train acc:\", calc_acc(X_train, y_tr))\n",
    "print(\"Test acc:\", calc_acc(X_test, y_te))"
   ]
  }
 ],
 "metadata": {
  "kernelspec": {
   "display_name": "env36",
   "language": "python",
   "name": "env36"
  },
  "language_info": {
   "codemirror_mode": {
    "name": "ipython",
    "version": 3
   },
   "file_extension": ".py",
   "mimetype": "text/x-python",
   "name": "python",
   "nbconvert_exporter": "python",
   "pygments_lexer": "ipython3",
   "version": "3.6.12"
  }
 },
 "nbformat": 4,
 "nbformat_minor": 2
}
